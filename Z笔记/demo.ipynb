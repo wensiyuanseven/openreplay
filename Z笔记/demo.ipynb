{
 "cells": [
  {
   "cell_type": "code",
   "execution_count": null,
   "metadata": {},
   "outputs": [],
   "source": [
    "class UserModel:\n",
    "    email = \"11111\"  # 成员变量\n",
    "\n",
    "    _transform_email = \"22222\"  # 类属性\n",
    "\n",
    "# 创建实例\n",
    "user1 = UserModel()\n",
    "user2 = UserModel()\n",
    "\n",
    "# 访问成员变量\n",
    "print(user1.email)  # 输出: 11111\n",
    "print(user2.email)  # 输出: 11111\n",
    "\n",
    "# 访问类属性\n",
    "print(UserModel._transform_email)  # 输出: 22222\n",
    "print(user1._transform_email)      # 输出: 22222\n",
    "print(user2._transform_email)      # 输出: 22222\n",
    "\n",
    "# 修改实例的成员变量\n",
    "user1.email = \"user1@example.com\"\n",
    "print(user1.email)  # 输出: user1@example.com\n",
    "print(user2.email)  # 输出: 11111\n",
    "\n",
    "# 类属性的修改会影响所有实例\n",
    "UserModel._transform_email = \"new_value\"\n",
    "print(UserModel._transform_email)  # 输出: new_value\n",
    "print(user1._transform_email)      # 输出: new_value\n",
    "print(user2._transform_email)      # 输出: new_value\n"
   ]
  },
  {
   "cell_type": "code",
   "execution_count": 36,
   "metadata": {},
   "outputs": [
    {
     "name": "stdout",
     "output_type": "stream",
     "text": [
      "User@Example.com 测试哈哈哈\n",
      "user@example.com\n"
     ]
    }
   ],
   "source": [
    "from pydantic import BaseModel, Field, field_validator\n",
    "\n",
    "def transform_email(cls, value):\n",
    "    print(value,\"测试哈哈哈\") \n",
    "    if isinstance(value, str):\n",
    "        return value.lower()\n",
    "    return value\n",
    "\n",
    "class UserModel(BaseModel):\n",
    "    email: str = Field(...)\n",
    "\n",
    "    _transform_email = field_validator('email', mode='before')(transform_email)\n",
    "\n",
    "# 测试模型\n",
    "user = UserModel(email='User@Example.com')\n",
    "print(user.email)  # 输出: user@example.com\n"
   ]
  },
  {
   "cell_type": "code",
   "execution_count": 9,
   "metadata": {},
   "outputs": [
    {
     "name": "stdout",
     "output_type": "stream",
     "text": [
      "project_id=111 project_key='key123' name='My Project' platform='web'\n"
     ]
    }
   ],
   "source": [
    "from pydantic import BaseModel, Field\n",
    "from typing import Literal\n",
    "\n",
    "\n",
    "class CurrentProjectContext(BaseModel):\n",
    "    project_id: int = Field(..., alias=\"projectId\", gt=0)\n",
    "    project_key: str = Field(..., alias=\"projectKey\")\n",
    "    name: str = Field(...)\n",
    "    platform: Literal[\"web\", \"ios\"] = Field(...)\n",
    "\n",
    "# 假设 current_project 是一个包含所需键值的字典\n",
    "current_project = {\n",
    "    \"projectId\": '111',\n",
    "    \"projectKey\": \"key123\",\n",
    "    \"platform\": \"web\",\n",
    "    \"name\": \"My Project\"\n",
    "}\n",
    "\n",
    "# 创建一个 CurrentProjectContext 实例\n",
    "current_project_instance = CurrentProjectContext(\n",
    "    projectId=current_project[\"projectId\"],\n",
    "    projectKey=current_project[\"projectKey\"],\n",
    "    platform=current_project[\"platform\"],\n",
    "    name=current_project[\"name\"]\n",
    ")\n",
    "\n",
    "print(current_project_instance)"
   ]
  },
  {
   "cell_type": "code",
   "execution_count": 26,
   "metadata": {},
   "outputs": [
    {
     "name": "stdout",
     "output_type": "stream",
     "text": [
      "project_id=123 project_key=564\n"
     ]
    }
   ],
   "source": [
    "# from pydantic import BaseModel\n",
    "\n",
    "\n",
    "# class BACD(BaseModel):\n",
    "#     project_id = int = Field(..., gt=0)\n",
    "#     project_key = int =Field(..., gt=0)\n",
    "\n",
    "\n",
    "# print(BACD(project_id=123, project_key=564))\n",
    "\n",
    "from pydantic import BaseModel, Field\n",
    "\n",
    "class BACD(BaseModel):\n",
    "    project_id: int = Field(..., gt=0)\n",
    "    project_key: int = Field(..., gt=0)\n",
    "\n",
    "# 创建 BACD 实例并打印\n",
    "bacd_instance = BACD(project_id=123, project_key=564)\n",
    "print(bacd_instance)\n"
   ]
  },
  {
   "cell_type": "code",
   "execution_count": 29,
   "metadata": {},
   "outputs": [
    {
     "name": "stdout",
     "output_type": "stream",
     "text": [
      "BACD(project_id=123, project_key=456)\n"
     ]
    }
   ],
   "source": [
    "class BACD():\n",
    "    project_id = 123\n",
    "    project_key = 456\n",
    "\n",
    "    def __str__(self):\n",
    "        return f\"BACD(project_id={self.project_id}, project_key={self.project_key})\"\n",
    "\n",
    "print(BACD())\n"
   ]
  },
  {
   "cell_type": "code",
   "execution_count": 34,
   "metadata": {},
   "outputs": [
    {
     "data": {
      "text/plain": [
       "__repr__BACD(project_id=123, project_key=456)"
      ]
     },
     "execution_count": 34,
     "metadata": {},
     "output_type": "execute_result"
    }
   ],
   "source": [
    "class BACD():\n",
    "    project_id = 123\n",
    "    project_key = 456\n",
    "\n",
    "    def __str__(self):\n",
    "        return f\"__str__BACD(project_id={self.project_id}, project_key={self.project_key})\"\n",
    "\n",
    "    def __repr__(self):\n",
    "        return f\"__repr__BACD(project_id={self.project_id}, project_key={self.project_key})\"\n",
    "\n",
    "# 输出字符串表示\n",
    "# print(BACD())\n",
    "\n",
    "\n",
    "# 在交互式解释器中调用 repr\n",
    "BACD()"
   ]
  },
  {
   "cell_type": "code",
   "execution_count": 41,
   "metadata": {},
   "outputs": [
    {
     "name": "stdout",
     "output_type": "stream",
     "text": [
      "<__main__.Example object at 0x11c9e4f10>\n"
     ]
    }
   ],
   "source": [
    "class Example:\n",
    "    def __str__(self):\n",
    "        return \"222Example()\"\n",
    "\n",
    "\n",
    "obj = Example()\n",
    "print(repr(obj)) "
   ]
  },
  {
   "cell_type": "code",
   "execution_count": 30,
   "metadata": {},
   "outputs": [
    {
     "name": "stdout",
     "output_type": "stream",
     "text": [
      "{'type': 'custom'}\n"
     ]
    }
   ],
   "source": [
    "from enum import Enum\n",
    "\n",
    "\n",
    "class EventType(Enum):\n",
    "    CLICK = \"click\"\n",
    "    INPUT = \"input\"\n",
    "    CUSTOM = \"custom\"\n",
    "\n",
    "\n",
    "def transform_old_filter_type(values):\n",
    "    # 假设 values 包含一个 \"type\" 字段\n",
    "    if values.get(\"type\") is None:\n",
    "        return values\n",
    "\n",
    "    # 定义映射关系\n",
    "    type_mapping = {\n",
    "        \"CLICK\": EventType.CLICK.value,\n",
    "        \"INPUT\": EventType.INPUT.value,\n",
    "        \"CUSTOM\": EventType.CUSTOM.value\n",
    "    }\n",
    "    # print(values[\"type\"])\n",
    "\n",
    "    # print(values[\"aaaa\"])\n",
    "\n",
    "    # 尝试从映射中获取新的值，如果不存在则返回原始值\n",
    "    values[\"type\"] = type_mapping.get(values[\"type\"], values[\"type\"])\n",
    "\n",
    "    return values\n",
    "\n",
    "\n",
    "# 测试例子\n",
    "old_data = {\"type\": \"CUSTOM\"}\n",
    "new_data = transform_old_filter_type(old_data)\n",
    "\n",
    "print(new_data)"
   ]
  },
  {
   "cell_type": "code",
   "execution_count": null,
   "metadata": {},
   "outputs": [],
   "source": []
  },
  {
   "cell_type": "code",
   "execution_count": 34,
   "metadata": {},
   "outputs": [
    {
     "name": "stdout",
     "output_type": "stream",
     "text": [
      "click is a valid event type.\n"
     ]
    }
   ],
   "source": [
    "from enum import Enum as _Enum\n",
    "\n",
    "class Enum(_Enum):\n",
    "    @classmethod\n",
    "    def has_value(cls, value) -> bool:\n",
    "        return value in cls._value2member_map_\n",
    "\n",
    "class EventType(Enum):\n",
    "    CLICK = \"click\"\n",
    "    INPUT = \"input\"\n",
    "    CUSTOM = \"custom\"\n",
    "\n",
    "# 使用示例\n",
    "value_to_check = \"click\"\n",
    "if EventType.has_value(value_to_check):\n",
    "    print(f\"{value_to_check} is a valid event type.\")\n",
    "else:\n",
    "    print(f\"{value_to_check} is not a valid event type.\")\n"
   ]
  }
 ],
 "metadata": {
  "kernelspec": {
   "display_name": "Python 3",
   "language": "python",
   "name": "python3"
  },
  "language_info": {
   "codemirror_mode": {
    "name": "ipython",
    "version": 3
   },
   "file_extension": ".py",
   "mimetype": "text/x-python",
   "name": "python",
   "nbconvert_exporter": "python",
   "pygments_lexer": "ipython3",
   "version": "3.11.5"
  }
 },
 "nbformat": 4,
 "nbformat_minor": 2
}
